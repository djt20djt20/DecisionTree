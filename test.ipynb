{
 "cells": [
  {
   "cell_type": "code",
   "execution_count": 1,
   "metadata": {},
   "outputs": [],
   "source": [
    "from src.data_creator import DataCreator\n",
    "\n",
    "data = DataCreator().fetch_breast_cancer_data().return_data_frame()"
   ]
  },
  {
   "cell_type": "code",
   "execution_count": 1,
   "metadata": {},
   "outputs": [
    {
     "ename": "ImportError",
     "evalue": "cannot import name 'add' from 'app' (/workspaces/DecisionTree/app/__init__.py)",
     "output_type": "error",
     "traceback": [
      "\u001b[0;31m---------------------------------------------------------------------------\u001b[0m",
      "\u001b[0;31mImportError\u001b[0m                               Traceback (most recent call last)",
      "\u001b[1;32m/workspaces/DecisionTree/test.ipynb Cell 2\u001b[0m line \u001b[0;36m1\n\u001b[0;32m----> <a href='vscode-notebook-cell://codespaces%2Bfictional-space-tribble-49vw447r9g4hj5g/workspaces/DecisionTree/test.ipynb#W1sdnNjb2RlLXJlbW90ZQ%3D%3D?line=0'>1</a>\u001b[0m \u001b[39mfrom\u001b[39;00m \u001b[39mapp\u001b[39;00m\u001b[39m.\u001b[39;00m\u001b[39mstreamlit_app\u001b[39;00m \u001b[39mimport\u001b[39;00m add_numbers\n",
      "File \u001b[0;32m/workspaces/DecisionTree/app/streamlit_app.py:2\u001b[0m\n\u001b[1;32m      1\u001b[0m \u001b[39mimport\u001b[39;00m \u001b[39mstreamlit\u001b[39;00m \u001b[39mas\u001b[39;00m \u001b[39mst\u001b[39;00m\n\u001b[0;32m----> 2\u001b[0m \u001b[39mfrom\u001b[39;00m \u001b[39mapp\u001b[39;00m \u001b[39mimport\u001b[39;00m add  \u001b[39m# Assuming add is a function defined in your existing code\u001b[39;00m\n\u001b[1;32m      4\u001b[0m st\u001b[39m.\u001b[39mtitle(\u001b[39m\"\u001b[39m\u001b[39mMy Streamlit App\u001b[39m\u001b[39m\"\u001b[39m)\n\u001b[1;32m      6\u001b[0m st\u001b[39m.\u001b[39mwrite(\u001b[39m\"\u001b[39m\u001b[39mThis is a simple Streamlit app.\u001b[39m\u001b[39m\"\u001b[39m)\n",
      "\u001b[0;31mImportError\u001b[0m: cannot import name 'add' from 'app' (/workspaces/DecisionTree/app/__init__.py)"
     ]
    }
   ],
   "source": [
    "from app.streamlit_app import add_numbers"
   ]
  },
  {
   "cell_type": "code",
   "execution_count": null,
   "metadata": {},
   "outputs": [],
   "source": []
  }
 ],
 "metadata": {
  "language_info": {
   "name": "python"
  }
 },
 "nbformat": 4,
 "nbformat_minor": 2
}
