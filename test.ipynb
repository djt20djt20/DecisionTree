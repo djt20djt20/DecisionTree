{
 "cells": [
  {
   "cell_type": "code",
   "execution_count": 1,
   "metadata": {},
   "outputs": [],
   "source": [
    "from src.data_creator import DataCreator\n",
    "\n",
    "data = DataCreator().fetch_breast_cancer_data().return_data_frame()"
   ]
  },
  {
   "cell_type": "code",
   "execution_count": 1,
   "metadata": {},
   "outputs": [
    {
     "ename": "ImportError",
     "evalue": "cannot import name 'add' from 'app' (/workspaces/DecisionTree/app/__init__.py)",
     "output_type": "error",
     "traceback": [
      "\u001b[0;31m---------------------------------------------------------------------------\u001b[0m",
      "\u001b[0;31mImportError\u001b[0m                               Traceback (most recent call last)",
      "\u001b[1;32m/workspaces/DecisionTree/test.ipynb Cell 2\u001b[0m line \u001b[0;36m1\n\u001b[0;32m----> <a href='vscode-notebook-cell://codespaces%2Bfictional-space-tribble-49vw447r9g4hj5g/workspaces/DecisionTree/test.ipynb#W1sdnNjb2RlLXJlbW90ZQ%3D%3D?line=0'>1</a>\u001b[0m \u001b[39mfrom\u001b[39;00m \u001b[39mapp\u001b[39;00m\u001b[39m.\u001b[39;00m\u001b[39mstreamlit_app\u001b[39;00m \u001b[39mimport\u001b[39;00m add_numbers\n",
      "File \u001b[0;32m/workspaces/DecisionTree/app/streamlit_app.py:2\u001b[0m\n\u001b[1;32m      1\u001b[0m \u001b[39mimport\u001b[39;00m \u001b[39mstreamlit\u001b[39;00m \u001b[39mas\u001b[39;00m \u001b[39mst\u001b[39;00m\n\u001b[0;32m----> 2\u001b[0m \u001b[39mfrom\u001b[39;00m \u001b[39mapp\u001b[39;00m \u001b[39mimport\u001b[39;00m add  \u001b[39m# Assuming add is a function defined in your existing code\u001b[39;00m\n\u001b[1;32m      4\u001b[0m st\u001b[39m.\u001b[39mtitle(\u001b[39m\"\u001b[39m\u001b[39mMy Streamlit App\u001b[39m\u001b[39m\"\u001b[39m)\n\u001b[1;32m      6\u001b[0m st\u001b[39m.\u001b[39mwrite(\u001b[39m\"\u001b[39m\u001b[39mThis is a simple Streamlit app.\u001b[39m\u001b[39m\"\u001b[39m)\n",
      "\u001b[0;31mImportError\u001b[0m: cannot import name 'add' from 'app' (/workspaces/DecisionTree/app/__init__.py)"
     ]
    }
   ],
   "source": [
    "from app.streamlit_app import add_numbers"
   ]
  },
  {
   "cell_type": "code",
   "execution_count": 28,
   "metadata": {},
   "outputs": [],
   "source": [
    "import psutil\n",
    "\n",
    "for proc in psutil.process_iter(['pid', 'name', 'connections']):\n",
    "    try:\n",
    "        for conn in proc.info['connections'] or []:\n",
    "            if conn.laddr.port == 8501:\n",
    "                print(f\"Port 8501 is in use by process {proc.info['name']} (PID {proc.info['pid']})\")\n",
    "                proc.kill()\n",
    "                try:\n",
    "                    proc.wait(timeout=5)  # Wait up to 5 seconds for the process to terminate\n",
    "                    print('Terminated process')\n",
    "                except psutil.TimeoutExpired:\n",
    "                    print(f\"Process {proc.info['name']} (PID {proc.info['pid']}) did not terminate in time\")\n",
    "    except (psutil.NoSuchProcess, psutil.AccessDenied, psutil.ZombieProcess) as e:\n",
    "        print(f\"Could not terminate process {proc.info['name']} (PID {proc.info['pid']}): {e}\")\n"
   ]
  },
  {
   "cell_type": "code",
   "execution_count": 29,
   "metadata": {},
   "outputs": [
    {
     "name": "stdout",
     "output_type": "stream",
     "text": [
      "\n",
      "Collecting usage statistics. To deactivate, set browser.gatherUsageStats to false.\n",
      "\n",
      "\n",
      "  You can now view your Streamlit app in your browser.\n",
      "\n",
      "  Local URL: http://localhost:8501\n",
      "  Network URL: http://172.16.5.4:8501\n",
      "  External URL: http://172.167.26.122:8501\n",
      "\n",
      "Streamlit app started successfully!\n",
      "  Stopping...\n"
     ]
    },
    {
     "data": {
      "text/plain": [
       "0"
      ]
     },
     "execution_count": 29,
     "metadata": {},
     "output_type": "execute_result"
    }
   ],
   "source": [
    "import subprocess\n",
    "import time\n",
    "import requests\n",
    "import psutil\n",
    "\n",
    "\n",
    "\n",
    "# Start the Streamlit app\n",
    "process = subprocess.Popen(['streamlit', 'run', 'app/streamlit_app.py', '--server.port=8501'])\n",
    "\n",
    "# Allow some time for the server to start\n",
    "time.sleep(10)\n",
    "\n",
    "# Check if the app is running\n",
    "try:\n",
    "    response = requests.get('http://localhost:8501')\n",
    "    if response.status_code == 200:\n",
    "        print(\"Streamlit app started successfully!\")\n",
    "    else:\n",
    "        print(f\"Streamlit app returned status code {response.status_code}\")\n",
    "except requests.ConnectionError:\n",
    "    print(\"Failed to connect to the Streamlit app\")\n",
    "\n",
    "# Terminate the Streamlit app\n",
    "process.terminate()\n",
    "process.wait()"
   ]
  },
  {
   "cell_type": "code",
   "execution_count": null,
   "metadata": {},
   "outputs": [],
   "source": [
    "import unittest\n",
    "import subprocess\n",
    "import time\n",
    "import requests\n",
    "import psutil\n",
    "\n",
    "class TestStreamlitApp(unittest.TestCase):\n",
    "    \n",
    "    @classmethod\n",
    "    def terminate_process_using_port(cls, port):\n",
    "        for proc in psutil.process_iter(['pid', 'name', 'connections']):\n",
    "            try:\n",
    "                for conn in proc.info['connections'] or []:\n",
    "                    if conn.laddr.port == 8501:\n",
    "                        print(f\"Port 8501 is in use by process {proc.info['name']} (PID {proc.info['pid']})\")\n",
    "                        proc.kill()\n",
    "                        try:\n",
    "                            proc.wait(timeout=5)  # Wait up to 5 seconds for the process to terminate\n",
    "                            print('Terminated process')\n",
    "                        except psutil.TimeoutExpired:\n",
    "                            print(f\"Process {proc.info['name']} (PID {proc.info['pid']}) did not terminate in time\")\n",
    "            except (psutil.NoSuchProcess, psutil.AccessDenied, psutil.ZombieProcess) as e:\n",
    "                print(f\"Could not terminate process {proc.info['name']} (PID {proc.info['pid']}): {e}\")\n",
    "\n",
    "    @classmethod\n",
    "    def setUpClass(cls):\n",
    "        cls.terminate_process_using_port(8501) \n",
    "        cls.process = subprocess.Popen(['streamlit', 'run', 'app/streamlit_app.py', '--server.port=8501'])\n",
    "        time.sleep(10)\n",
    "    \n",
    "    @classmethod\n",
    "    def tearDownClass(cls):\n",
    "        cls.process.terminate()\n",
    "        cls.process.wait()\n",
    "\n",
    "    def test_app_starts(self):\n",
    "        # Check if the app is running on port 8501\n",
    "        try:\n",
    "            response = requests.get('http://localhost:8501')\n",
    "            self.assertEqual(response.status_code, 200, \"Streamlit app did not start successfully\")\n",
    "        except requests.ConnectionError:\n",
    "            self.fail(\"Failed to connect to the Streamlit app\")\n"
   ]
  },
  {
   "cell_type": "code",
   "execution_count": 34,
   "metadata": {},
   "outputs": [],
   "source": [
    "for proc in psutil.process_iter(['pid', 'name', 'connections']):\n",
    "    try:\n",
    "        for conn in proc.info['connections'] or []:\n",
    "            if conn.laddr.port == 8501:\n",
    "                print(f\"Port 8501 is in use by process {proc.info['name']} (PID {proc.info['pid']})\")\n",
    "                proc.kill()\n",
    "                try:\n",
    "                    proc.wait(timeout=5)  # Wait up to 5 seconds for the process to terminate\n",
    "                    print('Terminated process')\n",
    "                except psutil.TimeoutExpired:\n",
    "                    print(f\"Process {proc.info['name']} (PID {proc.info['pid']}) did not terminate in time\")\n",
    "    except (psutil.NoSuchProcess, psutil.AccessDenied, psutil.ZombieProcess) as e:\n",
    "        print(f\"Could not terminate process {proc.info['name']} (PID {proc.info['pid']}): {e}\")"
   ]
  },
  {
   "cell_type": "code",
   "execution_count": null,
   "metadata": {},
   "outputs": [],
   "source": []
  }
 ],
 "metadata": {
  "language_info": {
   "name": "python"
  }
 },
 "nbformat": 4,
 "nbformat_minor": 2
}
